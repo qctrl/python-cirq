{
 "cells": [
  {
   "cell_type": "markdown",
   "metadata": {},
   "source": [
    "# Export a dynamical decoupling sequence to Cirq\n",
    "\n",
    "[Q-CTRL Open Controls](https://github.com/qctrl/python-open-controls) provides easy-to-use methods to construct dynamical decoupling sequences (DDS) according to well-known dynamical decoupling schemes. Here we show how a DDS from Q-CTRL Open Controls can be exported as a `Circuit` or `Schedule` and run in the `Simulator` using the Q-CTRL Cirq Adapter package.\n",
    "\n",
    "Note: \n",
    "* You will need [Cirq](https://cirq.readthedocs.io/en/stable/) to create the quantum circuits in this notebook and run the simulations."
   ]
  },
  {
   "cell_type": "markdown",
   "metadata": {},
   "source": [
    "## Imports"
   ]
  },
  {
   "cell_type": "code",
   "execution_count": 1,
   "metadata": {},
   "outputs": [],
   "source": [
    "# General\n",
    "import numpy as np\n",
    "import matplotlib.pyplot as plt\n",
    "from matplotlib.gridspec import GridSpec\n",
    "\n",
    "# Q-CTRL Open Controls\n",
    "from qctrlopencontrols import new_quadratic_sequence\n",
    "\n",
    "# Q-CTRL Cirq Adapter\n",
    "from qctrlcirq import convert_dds_to_cirq_circuit, convert_dds_to_cirq_schedule\n",
    "\n",
    "# Q-CTRL Visualizer\n",
    "from qctrlvisualizer import plot_sequences\n",
    "\n",
    "# Cirq : to run the circuit on simulator\n",
    "import cirq"
   ]
  },
  {
   "cell_type": "markdown",
   "metadata": {},
   "source": [
    "## Running a DDS on a Cirq Simulator\n",
    "\n",
    "This section demonstrates how a DDS can be prepared, a corresponding quantum circuit made and executed on a `cirq` simulator.\n",
    "\n",
    "Q-CTRL Open Controls defines a DDS as a set of instantaneous unitary operations performed at specific offset times, see the [technical documentation](https://docs.q-ctrl.com/open-controls/references/qctrl-open-controls/qctrlopencontrols/DynamicDecouplingSequence.html) for mathematical details.\n",
    "\n",
    "`cirq` implements quantum operations through a series of [gates](https://cirq.readthedocs.io/en/stable/gates.html). The standard way to create a quantum circuit is using `Circuit`. If a user wants to add pauses (in time) to a `Circuit` computation they can use identity gates. Alternatively, `cirq` provides `ScheduledOperation` that specifies an operation (application of a gate on one or more qubits) at a certain instant measured in ns or ps from the start of the sequence. A list of `ScheduledOperation` is collated by `Schedule`. Both `Circuit` and `Schedule` can be used in `Simulator` to simulate the circuit. We support both options through two methods: `convert_dds_to_cirq_circuit` and `covert_dds_to_cirq_schedule`.\n",
    "\n",
    "Converting a DDS into a `Circuit` or `Schedule` is an approximate process where the instantaneous unitaries are replaced with finite duration gates. Moreover, in `Circuit`, the pauses in-between unitaries are replaced with the closest integer number of identity gates. The exact algorithm used to make this approximation is documented in the [source code](https://github.com/qctrl/python-cirq).\n",
    "\n",
    "In this example we will define a Quadratic DDS and convert it into a circuit that we can later run on a simulator. Note that we add a $X_{\\pi/2}$ rotation at both ends of the sequence."
   ]
  },
  {
   "cell_type": "markdown",
   "metadata": {},
   "source": [
    "### Preparing the sequences"
   ]
  },
  {
   "cell_type": "code",
   "execution_count": 2,
   "metadata": {},
   "outputs": [
    {
     "name": "stdout",
     "output_type": "stream",
     "text": [
      "Quadratic sequence:\n",
      "Duration = 2e-05\n",
      "Offsets = [0.0, 0.06249999999999998, 0.18749999999999994, 0.24999999999999994, 0.37499999999999994, 0.6249999999999999, 0.7499999999999999, 0.8124999999999999, 0.9375, 1.0] x 2e-05\n",
      "Rabi Rotations = [0.5, 0.0, 0.0, 1.0, 0.0, 0.0, 1.0, 0.0, 0.0, 0.5] x pi\n",
      "Azimuthal Angles = [0.0, 0.0, 0.0, 0.0, 0.0, 0.0, 0.0, 0.0, 0.0, 1.0] x pi\n",
      "Detuning Rotations = [0.0, 1.0, 1.0, 0.0, 1.0, 1.0, 0.0, 1.0, 1.0, 0.0] x pi\n"
     ]
    }
   ],
   "source": [
    "## Quadratic sequence, total duration: 20us\n",
    "quadratic_sequence = new_quadratic_sequence(\n",
    "    duration=20e-6,\n",
    "    inner_offset_count=2,\n",
    "    outer_offset_count=2,\n",
    "    pre_post_rotation=True,\n",
    "    name=\"Quadratic sequence\",\n",
    ")\n",
    "print(quadratic_sequence)"
   ]
  },
  {
   "cell_type": "markdown",
   "metadata": {},
   "source": [
    "### Constructing the circuit using Q-CTRL Open Controls\n",
    "\n",
    "To construct a circuit/schedule from a DDS we need:\n",
    "* `dynamic_decoupling_sequence` - a DDS. \n",
    "* `target_qubits` - a list of target qubits (each of `cirq.Qid` type) for the DDS.\n",
    "* `gate_time` - the delay (in seconds) introduced by each of the gates. \n",
    "* (optional) `add_measurement` - to add a measurement at the end of the quantum circuit.\n",
    "\n",
    "In this example we convert a DDS into a `cirq.Circuit`. The `gate_time` is $0.4$ $\\mu$s."
   ]
  },
  {
   "cell_type": "code",
   "execution_count": 3,
   "metadata": {},
   "outputs": [],
   "source": [
    "## Prepare the conversion related parameters\n",
    "\"\"\"\n",
    "target_qubits : list\n",
    "    A list of cirq.Qid. In this case we are using a single\n",
    "    qubit (indexed 0) on 1-D lattice.\n",
    "\"\"\"\n",
    "target_qubits = [cirq.LineQubit(0)]\n",
    "\n",
    "\n",
    "\"\"\"\n",
    "gate_time : float\n",
    "    Time delay (in seconds) introduced by identity gate\n",
    "\"\"\"\n",
    "gate_time = 0.4e-6\n",
    "\n",
    "\"\"\"\n",
    "add_measurement : bool\n",
    "    Indicates if the circuit requires a measurement step.\n",
    "    Required for 'qasm_simulator' and real device backends\n",
    "\"\"\"\n",
    "add_measurement = True\n",
    "\n",
    "## convert the quadratic sequence to cirq.Circuit\n",
    "quadratic_cirq_circuit = convert_dds_to_cirq_circuit(\n",
    "    dynamic_decoupling_sequence=quadratic_sequence,\n",
    "    target_qubits=target_qubits,\n",
    "    gate_time=gate_time,\n",
    "    add_measurement=add_measurement,\n",
    ")"
   ]
  },
  {
   "cell_type": "markdown",
   "metadata": {},
   "source": [
    "### Plotting the DDS\n",
    "\n",
    "We can use the Q-CTRL Python Visualizer package to plot the DDS for comparison against its `cirq.Circuit` approximations."
   ]
  },
  {
   "cell_type": "code",
   "execution_count": 4,
   "metadata": {},
   "outputs": [
    {
     "data": {
      "image/png": "[encoded data removed]",
      "text/plain": [
       "<Figure size 720x540 with 3 Axes>"
      ]
     },
     "metadata": {
      "needs_background": "light"
     },
     "output_type": "display_data"
    }
   ],
   "source": [
    "formatted_plot_data = quadratic_sequence.export()\n",
    "figure = plt.figure()\n",
    "plt.suptitle(\"Quadratic Sequence\")\n",
    "plot_sequences(figure, formatted_plot_data)"
   ]
  },
  {
   "cell_type": "markdown",
   "metadata": {},
   "source": [
    "### Drawing the Circuit\n",
    "\n",
    "We can draw a text diagram of the `cirq.Circuit` generated by Q-CTRL Open Controls.\n",
    "\n",
    "Note that a $X_{\\pi/2}$ rotation is added at beginning and end to create and remove a superposition state that is preserved by the DDS. The $X_{\\pi/2}$ rotations are implemented using $Rx(0.5\\pi)$ gate.\n",
    "\n",
    "The $Rz(\\pi)$ gates are $Z_\\pi$ pulses (a $\\pi$ rotation around $Z$-axis) and $Rx(\\pi)$ gates correspond to $X_{\\pi}$ pulses (a $\\pi$ rotation around $X$-axis).\n",
    "\n",
    "The `I` in the drawing corresponds to the `identity` gate. In the DDS, the first $Z_{\\pi}$-pulse is applied at a delay of $1.25$ $\\mu$s. This is approximated by introducing 3-`Id` gates with a delay of $0.4\\times 3=1.2$ $\\mu s$. Similarly, the second set of 6 Id gates introduces a delay of  2.4$\\mu s$ close to the actual delay of  $3.75−1.25=2.50\\mu s$.\n",
    "\n",
    "At the end of the circuit, we placed a `measurement` ($M$) operator to read out the result."
   ]
  },
  {
   "cell_type": "code",
   "execution_count": 5,
   "metadata": {},
   "outputs": [
    {
     "name": "stdout",
     "output_type": "stream",
     "text": [
      "0: ─Rx(0.5π)─I─I─I─Rz(π)─I─I─I─I─I─I─Rz(π)─I─I─I─Rx(π)─I─I─I─I─I─I─Rz(π)─I─I─I─I─I─I─I─I─I─I─I─I─Rz(π)─I─I─I─I─I─I─Rx(π)─I─I─I─Rz(π)─I─I─I─I─I─I─Rz(π)─I─I─I─Rx(-0.5π)─M('qubit-0')─\n"
     ]
    }
   ],
   "source": [
    "##Drawing the Quadratic Circuit\n",
    "print(quadratic_cirq_circuit.to_text_diagram_drawer().render())"
   ]
  },
  {
   "cell_type": "markdown",
   "metadata": {},
   "source": [
    "### Run the Circuit on Cirq Simulator using Cirq API\n",
    "\n",
    "Consult [simulation](https://cirq.readthedocs.io/en/stable/simulation.html) for a description of available simulation APIs and their properties. We use the `run` method of `Simulator` to run the circuit for a number of `repetitions`. "
   ]
  },
  {
   "cell_type": "code",
   "execution_count": 6,
   "metadata": {},
   "outputs": [
    {
     "name": "stdout",
     "output_type": "stream",
     "text": [
      "qubit-0=0000000000000000000000000000000000000000000000000000000000000000000000000000000000000000000000000000\n",
      "Counter({0: 100})\n"
     ]
    }
   ],
   "source": [
    "##### Set the simulator parameters\n",
    "\"\"\"\n",
    "repetitions : int\n",
    "    The number of times the circuit will be executed\n",
    "\"\"\"\n",
    "repetitions = 100\n",
    "\n",
    "## Create the simulator\n",
    "simulator = cirq.Simulator()\n",
    "\n",
    "# Run the simulator and collect result\n",
    "result = simulator.run(quadratic_cirq_circuit, repetitions=repetitions)\n",
    "\n",
    "# print the outcome of each repetition\n",
    "print(result)\n",
    "\n",
    "# you can also collect the outcome as histogram (calculated as dict)\n",
    "print(result.histogram(key=[\"qubit-0\"]))"
   ]
  },
  {
   "cell_type": "markdown",
   "metadata": {},
   "source": [
    "### Creating a Schedule and running on Cirq Simulator\n",
    "\n",
    "We can create a `Schedule` from the DDS using `convert_dds_to_cirq_schedule` method."
   ]
  },
  {
   "cell_type": "code",
   "execution_count": 7,
   "metadata": {},
   "outputs": [
    {
     "name": "stdout",
     "output_type": "stream",
     "text": [
      "qubit-0=0000000000000000000000000000000000000000000000000000000000000000000000000000000000000000000000000000\n",
      "Counter({0: 100})\n"
     ]
    }
   ],
   "source": [
    "## convert the quadratic sequence to cirq.Schedule\n",
    "quadratic_cirq_circuit = convert_dds_to_cirq_schedule(\n",
    "    dynamic_decoupling_sequence=quadratic_sequence,\n",
    "    target_qubits=target_qubits,\n",
    "    gate_time=gate_time,\n",
    "    add_measurement=add_measurement,\n",
    ")\n",
    "\n",
    "##### Set the simulator parameters\n",
    "\"\"\"\n",
    "repetitions : int\n",
    "    The number of times the circuit will be executed\n",
    "\"\"\"\n",
    "repetitions = 100\n",
    "\n",
    "## Create the simulator\n",
    "simulator = cirq.Simulator()\n",
    "\n",
    "# Run the simulator and collect result\n",
    "result = simulator.run(quadratic_cirq_circuit, repetitions=repetitions)\n",
    "\n",
    "# print the outcome of each repetition\n",
    "print(result)\n",
    "\n",
    "# you can also collect the outcome as histogram (calculated as dict)\n",
    "print(result.histogram(key=[\"qubit-0\"]))"
   ]
  }
 ],
 "metadata": {
  "kernelspec": {
   "display_name": "Python 3",
   "language": "python",
   "name": "python3"
  },
  "language_info": {
   "codemirror_mode": {
    "name": "ipython",
    "version": 3
   },
   "file_extension": ".py",
   "mimetype": "text/x-python",
   "name": "python",
   "nbconvert_exporter": "python",
   "pygments_lexer": "ipython3",
   "version": "3.7.4"
  },
  "toc": {
   "base_numbering": 1,
   "nav_menu": {},
   "number_sections": true,
   "sideBar": true,
   "skip_h1_title": true,
   "title_cell": "Table of Contents",
   "title_sidebar": "Contents",
   "toc_cell": false,
   "toc_position": {},
   "toc_section_display": true,
   "toc_window_display": false
  }
 },
 "nbformat": 4,
 "nbformat_minor": 2
}
